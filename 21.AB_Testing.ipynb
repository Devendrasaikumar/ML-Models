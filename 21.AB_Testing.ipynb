{
 "cells": [
  {
   "cell_type": "markdown",
   "id": "6f91a602-b858-447e-91d6-a89bce0ade55",
   "metadata": {},
   "source": [
    "# <font color='Blue'>A/B Testing</font>"
   ]
  },
  {
   "cell_type": "markdown",
   "id": "f605893f-7a8b-44b4-9fc9-5bbb12eecd3b",
   "metadata": {},
   "source": [
    "- A/B testing is a statistical method used to compare two different versions of a variable (such as a webpage, app feature, or marketing campaign) to evaluate which one performs better based on specific metrics (like conversion rate, click-through rate, user engagement, etc.)."
   ]
  },
  {
   "cell_type": "markdown",
   "id": "a4fba566-fe38-44ad-8f23-9d259f065cbe",
   "metadata": {},
   "source": [
    "**Here’s how it works:**"
   ]
  },
  {
   "cell_type": "markdown",
   "id": "18b0ea7a-f504-4806-a5df-9e203080afd9",
   "metadata": {},
   "source": [
    "- You create two versions of what you want to test (for example, a webpage with two different button colors)."
   ]
  },
  {
   "cell_type": "markdown",
   "id": "963f1c62-6d73-46bd-ab6e-933a7a251d38",
   "metadata": {},
   "source": [
    "- You show each version to different groups of people."
   ]
  },
  {
   "cell_type": "markdown",
   "id": "7aec1820-f8b4-4834-80d3-c71bf04825e7",
   "metadata": {},
   "source": [
    "- You track how well each version does based on a goal, like clicks, sign-ups, or purchases."
   ]
  },
  {
   "cell_type": "markdown",
   "id": "782b79ba-d0b4-459a-87c4-fd0c2cff5a29",
   "metadata": {},
   "source": [
    "- You analyze which version performed better to decide which one to use."
   ]
  },
  {
   "cell_type": "markdown",
   "id": "533589e1-95a0-420a-b2cb-91fbf702c50a",
   "metadata": {},
   "source": [
    "*It’s like running an experiment to figure out what your audience prefers, based on real data.*"
   ]
  },
  {
   "cell_type": "markdown",
   "id": "352e24ab-1fcd-46a9-9480-32ce9d7fb36e",
   "metadata": {},
   "source": [
    "# <font color='Blue'> </font>"
   ]
  },
  {
   "cell_type": "markdown",
   "id": "596d96a0-c75a-4883-8d35-823406d5d621",
   "metadata": {},
   "source": [
    "# <font color='Blue'> </font>"
   ]
  },
  {
   "cell_type": "markdown",
   "id": "e6f1e6a4-8803-4aec-af02-28002fa84d35",
   "metadata": {},
   "source": [
    "#  <font color='red'>Build an A/B testing model</font>"
   ]
  },
  {
   "cell_type": "markdown",
   "id": "d30cd9db-25f2-409d-a01b-7be72a367573",
   "metadata": {},
   "source": [
    "- Let’s assume you have data on the number of users who clicked on the button for both A and B versions. "
   ]
  },
  {
   "cell_type": "code",
   "execution_count": 3,
   "id": "d6016be9-08f3-420c-8631-b3593ba44f19",
   "metadata": {},
   "outputs": [
    {
     "name": "stdout",
     "output_type": "stream",
     "text": [
      "Click-through rate for A: 0.1200\n",
      "Click-through rate for B: 0.1500\n",
      "Z-score: -1.9630\n",
      "P-value: 0.0496\n",
      "There is a statistically significant difference between version A and B!\n"
     ]
    }
   ],
   "source": [
    "import numpy as np\n",
    "import scipy.stats as stats\n",
    "\n",
    "# Example data: number of users who clicked for versions A and B\n",
    "# These are the number of successes (clicks)\n",
    "clicks_A = 120  # clicks in version A\n",
    "total_A = 1000  # total users exposed to version A\n",
    "\n",
    "clicks_B = 150  # clicks in version B\n",
    "total_B = 1000  # total users exposed to version B\n",
    "\n",
    "# Calculate the click-through rate (CTR) for both versions\n",
    "ctr_A = clicks_A / total_A\n",
    "ctr_B = clicks_B / total_B\n",
    "\n",
    "# Perform a Z-test for proportions to compare the two versions\n",
    "# The null hypothesis is that there is no difference between A and B\n",
    "p_A = ctr_A  # proportion of success in version A\n",
    "p_B = ctr_B  # proportion of success in version B\n",
    "\n",
    "# Pooled probability (common proportion under null hypothesis)\n",
    "p_pool = (clicks_A + clicks_B) / (total_A + total_B)\n",
    "\n",
    "# Standard error calculation\n",
    "se = np.sqrt(p_pool * (1 - p_pool) * (1 / total_A + 1 / total_B))\n",
    "\n",
    "# Z-score calculation\n",
    "z = (p_A - p_B) / se\n",
    "\n",
    "# Calculate p-value for two-tailed test\n",
    "p_value = 2 * (1 - stats.norm.cdf(abs(z)))\n",
    "\n",
    "# Print results\n",
    "print(f\"Click-through rate for A: {ctr_A:.4f}\")\n",
    "print(f\"Click-through rate for B: {ctr_B:.4f}\")\n",
    "print(f\"Z-score: {z:.4f}\")\n",
    "print(f\"P-value: {p_value:.4f}\")\n",
    "\n",
    "# If p-value is less than 0.05, the difference is statistically significant\n",
    "if p_value < 0.05:\n",
    "    print(\"There is a statistically significant difference between version A and B!\")\n",
    "else:\n",
    "    print(\"There is no statistically significant difference between version A and B.\")\n"
   ]
  },
  {
   "cell_type": "markdown",
   "id": "598e6f01-54b0-475e-ab6c-d17f7c60d13b",
   "metadata": {},
   "source": [
    "- The p-value is less than 0.05, it means the difference between A and B is statistically significant. You can confidently say that one version is better."
   ]
  },
  {
   "cell_type": "markdown",
   "id": "adb5a380-e15a-49df-a363-179c406f0be0",
   "metadata": {},
   "source": [
    "#  <font color='red'>END</font>"
   ]
  }
 ],
 "metadata": {
  "kernelspec": {
   "display_name": "Python 3 (ipykernel)",
   "language": "python",
   "name": "python3"
  },
  "language_info": {
   "codemirror_mode": {
    "name": "ipython",
    "version": 3
   },
   "file_extension": ".py",
   "mimetype": "text/x-python",
   "name": "python",
   "nbconvert_exporter": "python",
   "pygments_lexer": "ipython3",
   "version": "3.12.4"
  }
 },
 "nbformat": 4,
 "nbformat_minor": 5
}
